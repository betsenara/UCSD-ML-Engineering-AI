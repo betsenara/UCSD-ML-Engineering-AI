{
  "cells": [
    {
      "cell_type": "markdown",
      "metadata": {
        "id": "view-in-github",
        "colab_type": "text"
      },
      "source": [
        "<a href=\"https://colab.research.google.com/github/betsenara/UCSD-ML-Engineering-AI/blob/main/SageMaker_Pipelines_project.ipynb\" target=\"_parent\"><img src=\"https://colab.research.google.com/assets/colab-badge.svg\" alt=\"Open In Colab\"/></a>"
      ]
    },
    {
      "cell_type": "markdown",
      "id": "0d8294a7-3841-4275-8b7c-4f0f14d709bb",
      "metadata": {
        "id": "0d8294a7-3841-4275-8b7c-4f0f14d709bb"
      },
      "source": [
        "# Step 1: Import Packages and Declare Constants"
      ]
    },
    {
      "cell_type": "code",
      "execution_count": null,
      "id": "251e47e4-a9b2-4f65-b9ea-23b29493018a",
      "metadata": {
        "id": "251e47e4-a9b2-4f65-b9ea-23b29493018a",
        "outputId": "f54bdbf4-eec9-4fad-d2e8-fa04090d3d8b"
      },
      "outputs": [
        {
          "name": "stdout",
          "output_type": "stream",
          "text": [
            "sagemaker.config INFO - Not applying SDK defaults from location: /etc/xdg/sagemaker/config.yaml\n",
            "sagemaker.config INFO - Not applying SDK defaults from location: /home/sagemaker-user/.config/sagemaker/config.yaml\n"
          ]
        }
      ],
      "source": [
        "import boto3\n",
        "import sagemaker\n",
        "import datetime as dt\n",
        "import pandas as pd"
      ]
    },
    {
      "cell_type": "code",
      "execution_count": null,
      "id": "2bf759cd-1c6a-48f7-a7e9-cbd5ce947730",
      "metadata": {
        "id": "2bf759cd-1c6a-48f7-a7e9-cbd5ce947730"
      },
      "outputs": [],
      "source": [
        "#Replace this value with the S3 Bucket Created\n",
        "default_bucket = \"sagemaker-studio-211125403081-f0htqm1fzcs\""
      ]
    },
    {
      "cell_type": "code",
      "execution_count": null,
      "id": "2402ed7c-3c35-4354-8a48-807394711d18",
      "metadata": {
        "id": "2402ed7c-3c35-4354-8a48-807394711d18"
      },
      "outputs": [],
      "source": [
        "region = boto3.Session().region_name\n",
        "role = sagemaker.get_execution_role()\n",
        "sagemaker_session = sagemaker.Session()\n",
        "sklearn_processor_version=\"0.23-1\"\n",
        "model_package_group_name=\"ChurnModelPackageGroup\"\n",
        "pipeline_name= \"ChurnModelSMPipeline\"\n",
        "clarify_image = sagemaker.image_uris.retrieve(framework='sklearn',version=sklearn_processor_version,region=region)"
      ]
    },
    {
      "cell_type": "markdown",
      "id": "4ccf21aa-645c-4a2d-876b-a073ea51e4aa",
      "metadata": {
        "id": "4ccf21aa-645c-4a2d-876b-a073ea51e4aa"
      },
      "source": [
        "## Step 2: Generate Baseline Dataset"
      ]
    },
    {
      "cell_type": "code",
      "execution_count": null,
      "id": "2403da5a-890d-4148-94bb-b3fc40159d73",
      "metadata": {
        "id": "2403da5a-890d-4148-94bb-b3fc40159d73"
      },
      "outputs": [],
      "source": [
        "def preprocess_data(file_path):\n",
        "    df = pd.read_csv(file_path)\n",
        "    ## Convert to datetime columns\n",
        "    df[\"firstorder\"]=pd.to_datetime(df[\"firstorder\"],errors='coerce')\n",
        "    df[\"lastorder\"] = pd.to_datetime(df[\"lastorder\"],errors='coerce')\n",
        "    ## Drop Rows with null values\n",
        "    df = df.dropna()\n",
        "    ## Create Column which gives the days between the last order and the first order\n",
        "    df[\"first_last_days_diff\"] = (df['lastorder']-df['firstorder']).dt.days\n",
        "    ## Create Column which gives the days between when the customer record was created and the first order\n",
        "    df['created'] = pd.to_datetime(df['created'])\n",
        "    df['created_first_days_diff']=(df['created']-df['firstorder']).dt.days\n",
        "    ## Drop Columns\n",
        "    df.drop(['custid','created','firstorder','lastorder'],axis=1,inplace=True)\n",
        "    ## Apply one hot encoding on favday and city columns\n",
        "    df = pd.get_dummies(df,prefix=['favday','city'],columns=['favday','city'])\n",
        "    return df"
      ]
    },
    {
      "cell_type": "code",
      "execution_count": null,
      "id": "e1d1194c-a11d-4c7e-be67-efa75b8ad950",
      "metadata": {
        "id": "e1d1194c-a11d-4c7e-be67-efa75b8ad950"
      },
      "outputs": [],
      "source": [
        "baseline_data = preprocess_data(\"data/storedata_total.csv\")\n",
        "baseline_data.pop(\"retained\")\n",
        "baseline_sample = baseline_data.sample(frac=0.0002)"
      ]
    },
    {
      "cell_type": "code",
      "execution_count": null,
      "id": "35c14630-f4f9-4f43-a944-188f0a212f97",
      "metadata": {
        "id": "35c14630-f4f9-4f43-a944-188f0a212f97"
      },
      "outputs": [],
      "source": [
        "pd.DataFrame(baseline_sample).to_csv(\"data/baseline.csv\",header=False,index=False)"
      ]
    },
    {
      "cell_type": "markdown",
      "id": "e28b6968-93a1-48fa-91a5-7efdbab2f956",
      "metadata": {
        "id": "e28b6968-93a1-48fa-91a5-7efdbab2f956"
      },
      "source": [
        "## Step 3: Generate Batch Dataset"
      ]
    },
    {
      "cell_type": "code",
      "execution_count": null,
      "id": "9979f091-dc4a-4af1-9553-654405d013c1",
      "metadata": {
        "id": "9979f091-dc4a-4af1-9553-654405d013c1"
      },
      "outputs": [],
      "source": [
        "batch_data = preprocess_data(\"data/storedata_total.csv\")\n",
        "batch_data.pop(\"retained\")\n",
        "batch_sample = batch_data.sample(frac=0.2)"
      ]
    },
    {
      "cell_type": "code",
      "execution_count": null,
      "id": "fea88a3a-de4a-4520-8037-a89f570e3cf1",
      "metadata": {
        "id": "fea88a3a-de4a-4520-8037-a89f570e3cf1"
      },
      "outputs": [],
      "source": [
        "pd.DataFrame(batch_sample).to_csv(\"data/batch.csv\",header=False,index=False)"
      ]
    },
    {
      "cell_type": "markdown",
      "id": "9cc297e6-0436-4bee-8e9c-2757bacf3525",
      "metadata": {
        "id": "9cc297e6-0436-4bee-8e9c-2757bacf3525"
      },
      "source": [
        "## Step 4: Copy Data and Scripts to S3 Bucket"
      ]
    },
    {
      "cell_type": "code",
      "execution_count": null,
      "id": "defcbeb1-6a31-4515-8172-a23b9498b17f",
      "metadata": {
        "id": "defcbeb1-6a31-4515-8172-a23b9498b17f"
      },
      "outputs": [],
      "source": [
        "s3_client = boto3.resource('s3')\n",
        "s3_client.Bucket(default_bucket).upload_file(\"data/storedata_total.csv\",\"data/storedata_total.csv\")\n",
        "s3_client.Bucket(default_bucket).upload_file(\"data/batch.csv\",\"data/batch/batch.csv\")\n",
        "s3_client.Bucket(default_bucket).upload_file(\"data/baseline.csv\",\"input/baseline/baseline.csv\")"
      ]
    },
    {
      "cell_type": "code",
      "execution_count": null,
      "id": "07800797-1759-48cb-852a-45331f5cf35f",
      "metadata": {
        "id": "07800797-1759-48cb-852a-45331f5cf35f"
      },
      "outputs": [],
      "source": [
        "s3_client.Bucket(default_bucket).upload_file(\"pipelines/customerchurn/preprocess.py\",\"input/code/preprocess.py\")\n",
        "s3_client.Bucket(default_bucket).upload_file(\"pipelines/customerchurn/evaluate.py\",\"input/code/evaluate.py\")\n",
        "s3_client.Bucket(default_bucket).upload_file(\"pipelines/customerchurn/generate_config.py\",\"input/code/generate_config.py\")"
      ]
    },
    {
      "cell_type": "markdown",
      "id": "50969cf9-b9db-4ba5-bead-9080d0c644fd",
      "metadata": {
        "id": "50969cf9-b9db-4ba5-bead-9080d0c644fd"
      },
      "source": [
        "## Step 5: Get the Pipeline Instance"
      ]
    },
    {
      "cell_type": "code",
      "execution_count": null,
      "id": "842b0113-52d3-47c6-bddf-6dd4c8c203c2",
      "metadata": {
        "id": "842b0113-52d3-47c6-bddf-6dd4c8c203c2",
        "outputId": "19af86fb-a2af-4ddf-8b41-974858c0234e"
      },
      "outputs": [
        {
          "name": "stderr",
          "output_type": "stream",
          "text": [
            "WARNING:sagemaker.workflow.utilities:The input argument instance_type of function (sagemaker.image_uris.retrieve) is a pipeline variable (<class 'sagemaker.workflow.parameters.ParameterString'>), which is interpreted in pipeline execution time only. As the function needs to evaluate the argument value in SDK compile time, the default_value of this Parameter object will be used to override it. Please make sure the default_value is valid.\n",
            "INFO:sagemaker.image_uris:Defaulting to only available Python version: py3\n",
            "WARNING:sagemaker.workflow.utilities:The input argument instance_type of function (sagemaker.image_uris.retrieve) is a pipeline variable (<class 'sagemaker.workflow.parameters.ParameterString'>), which is interpreted in pipeline execution time only. As the function needs to evaluate the argument value in SDK compile time, the default_value of this Parameter object will be used to override it. Please make sure the default_value is valid.\n",
            "WARNING:sagemaker.deprecations:The class JsonGet has been renamed in sagemaker>=2.\n",
            "See: https://sagemaker.readthedocs.io/en/stable/v2.html for details.\n"
          ]
        }
      ],
      "source": [
        "from pipelines.customerchurn.pipeline import get_pipeline\n",
        "\n",
        "pipeline = get_pipeline(\n",
        "    region = region,\n",
        "    role=role,\n",
        "    default_bucket=default_bucket,\n",
        "    model_package_group_name=model_package_group_name,\n",
        "    pipeline_name=pipeline_name,\n",
        "    custom_image_uri=clarify_image,\n",
        "    sklearn_processor_version=sklearn_processor_version\n",
        ")"
      ]
    },
    {
      "cell_type": "code",
      "execution_count": null,
      "id": "a8ccb3a6-4f02-41ff-8fcf-9355d99d1d10",
      "metadata": {
        "id": "a8ccb3a6-4f02-41ff-8fcf-9355d99d1d10",
        "outputId": "68eb2d44-382f-4d81-d849-3fb14467f378"
      },
      "outputs": [
        {
          "name": "stderr",
          "output_type": "stream",
          "text": [
            "WARNING:sagemaker.workflow.utilities:Popping out 'ProcessingJobName' from the pipeline definition by default since it will be overridden at pipeline execution time. Please utilize the PipelineDefinitionConfig to persist this field in the pipeline definition if desired.\n",
            "WARNING:sagemaker.estimator:No finished training job found associated with this estimator. Please make sure this estimator is only used for building workflow config\n",
            "WARNING:sagemaker.estimator:No finished training job found associated with this estimator. Please make sure this estimator is only used for building workflow config\n",
            "WARNING:sagemaker.workflow.utilities:Popping out 'HyperParameterTuningJobName' from the pipeline definition by default since it will be overridden at pipeline execution time. Please utilize the PipelineDefinitionConfig to persist this field in the pipeline definition if desired.\n",
            "WARNING:sagemaker.workflow.utilities:Popping out 'ProcessingJobName' from the pipeline definition by default since it will be overridden at pipeline execution time. Please utilize the PipelineDefinitionConfig to persist this field in the pipeline definition if desired.\n",
            "WARNING:sagemaker.workflow.utilities:Popping out 'ModelName' from the pipeline definition by default since it will be overridden at pipeline execution time. Please utilize the PipelineDefinitionConfig to persist this field in the pipeline definition if desired.\n"
          ]
        },
        {
          "data": {
            "text/plain": [
              "'{\"Version\": \"2020-12-01\", \"Metadata\": {}, \"Parameters\": [{\"Name\": \"ProcessingInstanceType\", \"Type\": \"String\", \"DefaultValue\": \"ml.m5.large\"}, {\"Name\": \"ProcessingInstanceCount\", \"Type\": \"Integer\", \"DefaultValue\": 1}, {\"Name\": \"TrainingInstanceType\", \"Type\": \"String\", \"DefaultValue\": \"ml.m5.large\"}, {\"Name\": \"InputData\", \"Type\": \"String\", \"DefaultValue\": \"s3://sagemaker-studio-211125403081-f0htqm1fzcs/data/storedata_total.csv\"}, {\"Name\": \"BatchData\", \"Type\": \"String\", \"DefaultValue\": \"s3://sagemaker-studio-211125403081-f0htqm1fzcs/data/batch/batch.csv\"}, {\"Name\": \"UseSpotInstances\", \"Type\": \"Boolean\", \"DefaultValue\": true}, {\"Name\": \"MaxRun\", \"Type\": \"Integer\", \"DefaultValue\": 9000}, {\"Name\": \"MaxWait\", \"Type\": \"Integer\", \"DefaultValue\": 10000}], \"PipelineExperimentConfig\": {\"ExperimentName\": {\"Get\": \"Execution.PipelineName\"}, \"TrialName\": {\"Get\": \"Execution.PipelineExecutionId\"}}, \"Steps\": [{\"Name\": \"ChurnModelProcess\", \"Type\": \"Processing\", \"Arguments\": {\"ProcessingResources\": {\"ClusterConfig\": {\"InstanceType\": {\"Get\": \"Parameters.ProcessingInstanceType\"}, \"InstanceCount\": {\"Get\": \"Parameters.ProcessingInstanceCount\"}, \"VolumeSizeInGB\": 30}}, \"AppSpecification\": {\"ImageUri\": \"257758044811.dkr.ecr.us-east-2.amazonaws.com/sagemaker-scikit-learn:0.23-1-cpu-py3\", \"ContainerEntrypoint\": [\"python3\", \"/opt/ml/processing/input/code/preprocess.py\"]}, \"RoleArn\": \"arn:aws:iam::211125403081:role/service-role/AmazonSageMaker-ExecutionRole-20241030T160189\", \"ProcessingInputs\": [{\"InputName\": \"input-1\", \"AppManaged\": false, \"S3Input\": {\"S3Uri\": {\"Get\": \"Parameters.InputData\"}, \"LocalPath\": \"/opt/ml/processing/input\", \"S3DataType\": \"S3Prefix\", \"S3InputMode\": \"File\", \"S3DataDistributionType\": \"FullyReplicated\", \"S3CompressionType\": \"None\"}}, {\"InputName\": \"code\", \"AppManaged\": false, \"S3Input\": {\"S3Uri\": \"s3://sagemaker-studio-211125403081-f0htqm1fzcs/input/code/preprocess.py\", \"LocalPath\": \"/opt/ml/processing/input/code\", \"S3DataType\": \"S3Prefix\", \"S3InputMode\": \"File\", \"S3DataDistributionType\": \"FullyReplicated\", \"S3CompressionType\": \"None\"}}], \"ProcessingOutputConfig\": {\"Outputs\": [{\"OutputName\": \"train\", \"AppManaged\": false, \"S3Output\": {\"S3Uri\": \"s3://sagemaker-studio-211125403081-f0htqm1fzcs/output/train\", \"LocalPath\": \"/opt/ml/processing/train\", \"S3UploadMode\": \"EndOfJob\"}}, {\"OutputName\": \"validation\", \"AppManaged\": false, \"S3Output\": {\"S3Uri\": \"s3://sagemaker-studio-211125403081-f0htqm1fzcs/output/validation\", \"LocalPath\": \"/opt/ml/processing/validation\", \"S3UploadMode\": \"EndOfJob\"}}, {\"OutputName\": \"test\", \"AppManaged\": false, \"S3Output\": {\"S3Uri\": \"s3://sagemaker-studio-211125403081-f0htqm1fzcs/output/test\", \"LocalPath\": \"/opt/ml/processing/test\", \"S3UploadMode\": \"EndOfJob\"}}]}}}, {\"Name\": \"ChurnHyperParameterTuning\", \"Type\": \"Tuning\", \"Arguments\": {\"HyperParameterTuningJobConfig\": {\"Strategy\": \"Bayesian\", \"ResourceLimits\": {\"MaxNumberOfTrainingJobs\": 2, \"MaxParallelTrainingJobs\": 2}, \"TrainingJobEarlyStoppingType\": \"Off\", \"HyperParameterTuningJobObjective\": {\"Type\": \"Maximize\", \"MetricName\": \"validation:auc\"}, \"ParameterRanges\": {\"ContinuousParameterRanges\": [{\"Name\": \"eta\", \"MinValue\": \"0\", \"MaxValue\": \"1\", \"ScalingType\": \"Auto\"}, {\"Name\": \"min_child_weight\", \"MinValue\": \"1\", \"MaxValue\": \"10\", \"ScalingType\": \"Auto\"}, {\"Name\": \"alpha\", \"MinValue\": \"0\", \"MaxValue\": \"2\", \"ScalingType\": \"Auto\"}], \"CategoricalParameterRanges\": [], \"IntegerParameterRanges\": [{\"Name\": \"max_depth\", \"MinValue\": \"1\", \"MaxValue\": \"10\", \"ScalingType\": \"Auto\"}]}}, \"TrainingJobDefinition\": {\"StaticHyperParameters\": {\"eval_metric\": \"auc\", \"objective\": \"binary:logistic\", \"num_round\": \"100\", \"rate_drop\": \"0.3\", \"tweedie_variance_power\": \"1.4\"}, \"RoleArn\": \"arn:aws:iam::211125403081:role/service-role/AmazonSageMaker-ExecutionRole-20241030T160189\", \"OutputDataConfig\": {\"S3OutputPath\": \"s3://sagemaker-studio-211125403081-f0htqm1fzcs/output\"}, \"StoppingCondition\": {\"MaxRuntimeInSeconds\": {\"Get\": \"Parameters.MaxRun\"}, \"MaxWaitTimeInSeconds\": {\"Get\": \"Parameters.MaxWait\"}}, \"HyperParameterTuningResourceConfig\": {\"InstanceCount\": 1, \"InstanceType\": {\"Get\": \"Parameters.TrainingInstanceType\"}, \"VolumeSizeInGB\": 30}, \"AlgorithmSpecification\": {\"TrainingInputMode\": \"File\", \"TrainingImage\": \"257758044811.dkr.ecr.us-east-2.amazonaws.com/sagemaker-xgboost:1.0-1-cpu-py3\"}, \"InputDataConfig\": [{\"DataSource\": {\"S3DataSource\": {\"S3DataType\": \"S3Prefix\", \"S3Uri\": {\"Get\": \"Steps.ChurnModelProcess.ProcessingOutputConfig.Outputs[\\'train\\'].S3Output.S3Uri\"}, \"S3DataDistributionType\": \"FullyReplicated\"}}, \"ContentType\": \"text/csv\", \"ChannelName\": \"train\"}, {\"DataSource\": {\"S3DataSource\": {\"S3DataType\": \"S3Prefix\", \"S3Uri\": {\"Get\": \"Steps.ChurnModelProcess.ProcessingOutputConfig.Outputs[\\'validation\\'].S3Output.S3Uri\"}, \"S3DataDistributionType\": \"FullyReplicated\"}}, \"ContentType\": \"text/csv\", \"ChannelName\": \"validation\"}], \"EnableManagedSpotTraining\": {\"Get\": \"Parameters.UseSpotInstances\"}}}}, {\"Name\": \"ChurnEvalBestModel\", \"Type\": \"Processing\", \"Arguments\": {\"ProcessingResources\": {\"ClusterConfig\": {\"InstanceType\": {\"Get\": \"Parameters.ProcessingInstanceType\"}, \"InstanceCount\": 1, \"VolumeSizeInGB\": 30}}, \"AppSpecification\": {\"ImageUri\": \"257758044811.dkr.ecr.us-east-2.amazonaws.com/sagemaker-xgboost:1.0-1-cpu-py3\", \"ContainerEntrypoint\": [\"python3\", \"/opt/ml/processing/input/code/evaluate.py\"]}, \"RoleArn\": \"arn:aws:iam::211125403081:role/service-role/AmazonSageMaker-ExecutionRole-20241030T160189\", \"ProcessingInputs\": [{\"InputName\": \"input-1\", \"AppManaged\": false, \"S3Input\": {\"S3Uri\": {\"Std:Join\": {\"On\": \"/\", \"Values\": [\"s3:/\", \"sagemaker-studio-211125403081-f0htqm1fzcs\", \"output\", {\"Get\": \"Steps.ChurnHyperParameterTuning.TrainingJobSummaries[0].TrainingJobName\"}, \"output/model.tar.gz\"]}}, \"LocalPath\": \"/opt/ml/processing/model\", \"S3DataType\": \"S3Prefix\", \"S3InputMode\": \"File\", \"S3DataDistributionType\": \"FullyReplicated\", \"S3CompressionType\": \"None\"}}, {\"InputName\": \"input-2\", \"AppManaged\": false, \"S3Input\": {\"S3Uri\": {\"Get\": \"Steps.ChurnModelProcess.ProcessingOutputConfig.Outputs[\\'test\\'].S3Output.S3Uri\"}, \"LocalPath\": \"/opt/ml/processing/test\", \"S3DataType\": \"S3Prefix\", \"S3InputMode\": \"File\", \"S3DataDistributionType\": \"FullyReplicated\", \"S3CompressionType\": \"None\"}}, {\"InputName\": \"code\", \"AppManaged\": false, \"S3Input\": {\"S3Uri\": \"s3://sagemaker-studio-211125403081-f0htqm1fzcs/input/code/evaluate.py\", \"LocalPath\": \"/opt/ml/processing/input/code\", \"S3DataType\": \"S3Prefix\", \"S3InputMode\": \"File\", \"S3DataDistributionType\": \"FullyReplicated\", \"S3CompressionType\": \"None\"}}], \"ProcessingOutputConfig\": {\"Outputs\": [{\"OutputName\": \"evaluation\", \"AppManaged\": false, \"S3Output\": {\"S3Uri\": \"s3://sagemaker-studio-211125403081-f0htqm1fzcs/output/evaluation\", \"LocalPath\": \"/opt/ml/processing/evaluation\", \"S3UploadMode\": \"EndOfJob\"}}]}}, \"PropertyFiles\": [{\"PropertyFileName\": \"ChurnEvaluationReport\", \"OutputName\": \"evaluation\", \"FilePath\": \"evaluation.json\"}]}, {\"Name\": \"CheckAUCScoreChurnEvaluation\", \"Type\": \"Condition\", \"Arguments\": {\"Conditions\": [{\"Type\": \"GreaterThan\", \"LeftValue\": {\"Std:JsonGet\": {\"PropertyFile\": {\"Get\": \"Steps.ChurnEvalBestModel.PropertyFiles.ChurnEvaluationReport\"}, \"Path\": \"classification_metrics.auc_score.value\"}}, \"RightValue\": 0.75}], \"IfSteps\": [{\"Name\": \"ChurnCreateModel\", \"Type\": \"Model\", \"Arguments\": {\"ExecutionRoleArn\": \"arn:aws:iam::211125403081:role/service-role/AmazonSageMaker-ExecutionRole-20241030T160189\", \"PrimaryContainer\": {\"Image\": \"257758044811.dkr.ecr.us-east-2.amazonaws.com/sagemaker-xgboost:1.0-1-cpu-py3\", \"Environment\": {}, \"ModelDataUrl\": {\"Std:Join\": {\"On\": \"/\", \"Values\": [\"s3:/\", \"sagemaker-studio-211125403081-f0htqm1fzcs\", \"output\", {\"Get\": \"Steps.ChurnHyperParameterTuning.TrainingJobSummaries[0].TrainingJobName\"}, \"output/model.tar.gz\"]}}}}}], \"ElseSteps\": []}}]}'"
            ]
          },
          "execution_count": 15,
          "metadata": {},
          "output_type": "execute_result"
        }
      ],
      "source": [
        "pipeline.definition()"
      ]
    },
    {
      "cell_type": "markdown",
      "id": "70f403d1-b510-41f8-b79f-ae50d18a8fa8",
      "metadata": {
        "id": "70f403d1-b510-41f8-b79f-ae50d18a8fa8"
      },
      "source": [
        "## Step 5: Submit the pipeline to SageMaker and start execution"
      ]
    },
    {
      "cell_type": "code",
      "execution_count": null,
      "id": "dadb3bb5-7518-4ec4-b86e-cc830885d418",
      "metadata": {
        "id": "dadb3bb5-7518-4ec4-b86e-cc830885d418",
        "outputId": "a113d4eb-fbb3-4108-e840-5b180497a099"
      },
      "outputs": [
        {
          "name": "stderr",
          "output_type": "stream",
          "text": [
            "WARNING:sagemaker.workflow.utilities:Popping out 'ProcessingJobName' from the pipeline definition by default since it will be overridden at pipeline execution time. Please utilize the PipelineDefinitionConfig to persist this field in the pipeline definition if desired.\n",
            "WARNING:sagemaker.estimator:No finished training job found associated with this estimator. Please make sure this estimator is only used for building workflow config\n",
            "WARNING:sagemaker.estimator:No finished training job found associated with this estimator. Please make sure this estimator is only used for building workflow config\n",
            "WARNING:sagemaker.workflow.utilities:Popping out 'HyperParameterTuningJobName' from the pipeline definition by default since it will be overridden at pipeline execution time. Please utilize the PipelineDefinitionConfig to persist this field in the pipeline definition if desired.\n",
            "WARNING:sagemaker.workflow.utilities:Popping out 'ProcessingJobName' from the pipeline definition by default since it will be overridden at pipeline execution time. Please utilize the PipelineDefinitionConfig to persist this field in the pipeline definition if desired.\n",
            "WARNING:sagemaker.workflow.utilities:Popping out 'ModelName' from the pipeline definition by default since it will be overridden at pipeline execution time. Please utilize the PipelineDefinitionConfig to persist this field in the pipeline definition if desired.\n"
          ]
        },
        {
          "data": {
            "text/plain": [
              "{'PipelineArn': 'arn:aws:sagemaker:us-east-2:211125403081:pipeline/ChurnModelSMPipeline',\n",
              " 'ResponseMetadata': {'RequestId': 'a57f5c34-8c79-4562-b2fb-d18522ae080e',\n",
              "  'HTTPStatusCode': 200,\n",
              "  'HTTPHeaders': {'x-amzn-requestid': 'a57f5c34-8c79-4562-b2fb-d18522ae080e',\n",
              "   'content-type': 'application/x-amz-json-1.1',\n",
              "   'content-length': '88',\n",
              "   'date': 'Mon, 04 Nov 2024 23:35:20 GMT'},\n",
              "  'RetryAttempts': 0}}"
            ]
          },
          "execution_count": 16,
          "metadata": {},
          "output_type": "execute_result"
        }
      ],
      "source": [
        "pipeline.upsert(role_arn=role)"
      ]
    },
    {
      "cell_type": "code",
      "execution_count": null,
      "id": "03d8528d-2dd8-43a0-8872-4bc078686257",
      "metadata": {
        "id": "03d8528d-2dd8-43a0-8872-4bc078686257"
      },
      "outputs": [],
      "source": [
        "execution = pipeline.start()"
      ]
    },
    {
      "cell_type": "code",
      "execution_count": null,
      "id": "a83ec829-5d60-421c-b242-4bb5c1f8d59d",
      "metadata": {
        "id": "a83ec829-5d60-421c-b242-4bb5c1f8d59d",
        "outputId": "c19f8938-1a19-4f27-927d-6b1bd5b34673"
      },
      "outputs": [
        {
          "data": {
            "text/plain": [
              "{'PipelineArn': 'arn:aws:sagemaker:us-east-2:211125403081:pipeline/ChurnModelSMPipeline',\n",
              " 'PipelineExecutionArn': 'arn:aws:sagemaker:us-east-2:211125403081:pipeline/ChurnModelSMPipeline/execution/bph7w3oxle60',\n",
              " 'PipelineExecutionDisplayName': 'execution-1730763324155',\n",
              " 'PipelineExecutionStatus': 'Failed',\n",
              " 'PipelineExperimentConfig': {'ExperimentName': 'churnmodelsmpipeline',\n",
              "  'TrialName': 'bph7w3oxle60'},\n",
              " 'FailureReason': 'Step failure: One or multiple steps failed.',\n",
              " 'CreationTime': datetime.datetime(2024, 11, 4, 23, 35, 24, 85000, tzinfo=tzlocal()),\n",
              " 'LastModifiedTime': datetime.datetime(2024, 11, 4, 23, 35, 27, 323000, tzinfo=tzlocal()),\n",
              " 'CreatedBy': {'IamIdentity': {'Arn': 'arn:aws:sts::211125403081:assumed-role/AmazonSageMaker-ExecutionRole-20241030T160189/SageMaker',\n",
              "   'PrincipalId': 'AROATCKAN7XERMTMUSYWW:SageMaker'}},\n",
              " 'LastModifiedBy': {'IamIdentity': {'Arn': 'arn:aws:sts::211125403081:assumed-role/AmazonSageMaker-ExecutionRole-20241030T160189/SageMaker',\n",
              "   'PrincipalId': 'AROATCKAN7XERMTMUSYWW:SageMaker'}},\n",
              " 'ResponseMetadata': {'RequestId': '3c09cf1c-2d7f-4e4f-977d-93b060d696e0',\n",
              "  'HTTPStatusCode': 200,\n",
              "  'HTTPHeaders': {'x-amzn-requestid': '3c09cf1c-2d7f-4e4f-977d-93b060d696e0',\n",
              "   'content-type': 'application/x-amz-json-1.1',\n",
              "   'content-length': '892',\n",
              "   'date': 'Mon, 04 Nov 2024 23:35:27 GMT'},\n",
              "  'RetryAttempts': 0}}"
            ]
          },
          "execution_count": 18,
          "metadata": {},
          "output_type": "execute_result"
        }
      ],
      "source": [
        "execution.describe()"
      ]
    },
    {
      "cell_type": "code",
      "execution_count": null,
      "id": "37dce89e-bb3c-4911-9e0d-76cd547f619d",
      "metadata": {
        "id": "37dce89e-bb3c-4911-9e0d-76cd547f619d",
        "outputId": "4e0371bd-5f5a-4c18-cf11-b57832f2bf51"
      },
      "outputs": [
        {
          "data": {
            "text/plain": [
              "[{'StepName': 'ChurnModelProcess',\n",
              "  'StartTime': datetime.datetime(2024, 11, 4, 23, 35, 25, 705000, tzinfo=tzlocal()),\n",
              "  'EndTime': datetime.datetime(2024, 11, 4, 23, 35, 26, 996000, tzinfo=tzlocal()),\n",
              "  'StepStatus': 'Failed',\n",
              "  'FailureReason': \"ClientError: Failed to invoke sagemaker:CreateProcessingJob. Error Details: The account-level service limit 'ml.m5.large for processing job usage' is 0 Instances, with current utilization of 0 Instances and a request delta of 1 Instances. Please use AWS Service Quotas to request an increase for this quota. If AWS Service Quotas is not available, contact AWS support to request an increase for this quota.\\nRetry not appropriate on execution of step with PipelineExecutionArn arn:aws:sagemaker:us-east-2:211125403081:pipeline/churnmodelsmpipeline/execution/bph7w3oxle60 and StepId ChurnModelProcess. No retry policy configured for the exception type SAGEMAKER_RESOURCE_LIMIT.\",\n",
              "  'Metadata': {},\n",
              "  'AttemptCount': 1}]"
            ]
          },
          "execution_count": 19,
          "metadata": {},
          "output_type": "execute_result"
        }
      ],
      "source": [
        "execution.list_steps()"
      ]
    },
    {
      "cell_type": "code",
      "execution_count": null,
      "id": "c30406d8-85ac-4471-9394-4b42de4de405",
      "metadata": {
        "id": "c30406d8-85ac-4471-9394-4b42de4de405"
      },
      "outputs": [],
      "source": []
    }
  ],
  "metadata": {
    "kernelspec": {
      "display_name": "Python 3 (ipykernel)",
      "language": "python",
      "name": "python3"
    },
    "language_info": {
      "codemirror_mode": {
        "name": "ipython",
        "version": 3
      },
      "file_extension": ".py",
      "mimetype": "text/x-python",
      "name": "python",
      "nbconvert_exporter": "python",
      "pygments_lexer": "ipython3",
      "version": "3.11.10"
    },
    "colab": {
      "provenance": [],
      "include_colab_link": true
    }
  },
  "nbformat": 4,
  "nbformat_minor": 5
}