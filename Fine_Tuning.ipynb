{
  "nbformat": 4,
  "nbformat_minor": 0,
  "metadata": {
    "colab": {
      "provenance": [],
      "machine_shape": "hm",
      "gpuType": "T4",
      "include_colab_link": true
    },
    "kernelspec": {
      "name": "python3",
      "display_name": "Python 3"
    },
    "language_info": {
      "name": "python"
    },
    "accelerator": "GPU"
  },
  "cells": [
    {
      "cell_type": "markdown",
      "metadata": {
        "id": "view-in-github",
        "colab_type": "text"
      },
      "source": [
        "<a href=\"https://colab.research.google.com/github/betsenara/UCSD-ML-Engineering-AI/blob/main/Student_MLE_MiniProject_Fine_TuningSolution.ipynb\" target=\"_parent\"><img src=\"https://colab.research.google.com/assets/colab-badge.svg\" alt=\"Open In Colab\"/></a>"
      ]
    },
    {
      "cell_type": "markdown",
      "source": [
        "# Mini Project: Transfer Learning with Keras\n",
        "\n",
        "Transfer learning is a machine learning technique where a model trained on one task is used as a starting point to solve a different but related task. Instead of training a model from scratch, transfer learning leverages the knowledge learned from the source task and applies it to the target task. This approach is especially useful when the target task has limited data or computational resources.\n",
        "\n",
        "In transfer learning, the pre-trained model, also known as the \"base model\" or \"source model,\" is typically trained on a large dataset and a more general problem (e.g., image classification on ImageNet, a vast dataset with millions of labeled images). The knowledge learned by the base model in the form of feature representations and weights captures common patterns and features in the data.\n",
        "\n",
        "To perform transfer learning, the following steps are commonly followed:\n",
        "\n",
        "1. Pre-training: The base model is trained on a source task using a large dataset, which can take a considerable amount of time and computational resources.\n",
        "\n",
        "2. Feature Extraction: After pre-training, the base model is used as a feature extractor. The last few layers (classifier layers) of the model are discarded, and the remaining layers (feature extraction layers) are retained. These layers serve as feature extractors, producing meaningful representations of the data.\n",
        "\n",
        "3. Fine-tuning: The feature extraction layers and sometimes some of the earlier layers are connected to a new set of layers, often called the \"classifier layers\" or \"task-specific layers.\" These layers are randomly initialized, and the model is trained on the target task with a smaller dataset. The weights of the base model can be frozen during fine-tuning, or they can be allowed to be updated with a lower learning rate to fine-tune the model for the target task.\n",
        "\n",
        "Transfer learning has several benefits:\n",
        "\n",
        "1. Reduced training time and resource requirements: Since the base model has already learned generic features, transfer learning can save time and resources compared to training a model from scratch.\n",
        "\n",
        "2. Improved generalization: Transfer learning helps the model generalize better to the target task, especially when the target dataset is small and dissimilar from the source dataset.\n",
        "\n",
        "3. Better performance: By starting from a model that is already trained on a large dataset, transfer learning can lead to better performance on the target task, especially in scenarios with limited data.\n",
        "\n",
        "4. Effective feature extraction: The feature extraction layers of the pre-trained model can serve as powerful feature extractors for different tasks, even when the task domains differ.\n",
        "\n",
        "Transfer learning is commonly used in various domains, including computer vision, natural language processing (NLP), and speech recognition, where pre-trained models are fine-tuned for specific applications like object detection, sentiment analysis, or speech-to-text.\n",
        "\n",
        "In this mini-project you will perform fine-tuning using Keras with a pre-trained VGG16 model on the CIFAR-10 dataset."
      ],
      "metadata": {
        "id": "fyXucUekO19i"
      }
    },
    {
      "cell_type": "markdown",
      "source": [
        "First, import all the libraries you'll need."
      ],
      "metadata": {
        "id": "TYuE9O6I2uRY"
      }
    },
    {
      "cell_type": "code",
      "execution_count": 84,
      "metadata": {
        "id": "kLWR1DfQPakn"
      },
      "outputs": [],
      "source": [
        "import numpy as np\n",
        "import tensorflow as tf\n",
        "from tensorflow.keras.datasets import cifar10\n",
        "from tensorflow.keras.applications import VGG16\n",
        "from tensorflow.keras.models import Model\n",
        "from tensorflow.keras.layers import Dense, GlobalAveragePooling2D\n",
        "from tensorflow.keras.optimizers import Adam\n",
        "from tensorflow.keras.utils import to_categorical\n",
        "from sklearn.model_selection import train_test_split"
      ]
    },
    {
      "cell_type": "code",
      "source": [
        "import tensorflow as tf\n",
        "\n",
        "# Check for GPU availability\n",
        "print(\"Num GPUs Available: \", len(tf.config.list_physical_devices('GPU')))"
      ],
      "metadata": {
        "colab": {
          "base_uri": "https://localhost:8080/"
        },
        "id": "0lnt40io5cj4",
        "outputId": "73ca49bb-5a5b-4bd6-d05e-0815fbda4122"
      },
      "execution_count": 85,
      "outputs": [
        {
          "output_type": "stream",
          "name": "stdout",
          "text": [
            "Num GPUs Available:  1\n"
          ]
        }
      ]
    },
    {
      "cell_type": "markdown",
      "source": [
        "The CIFAR-10 dataset is a widely used benchmark dataset in the field of computer vision and machine learning. It stands for the \"Canadian Institute for Advanced Research 10\" dataset. CIFAR-10 was created by researchers at the CIFAR institute and was originally introduced as part of the Neural Information Processing Systems (NIPS) 2009 competition.\n",
        "\n",
        "The dataset consists of 60,000 color images, each of size 32x32 pixels, belonging to ten different classes. Each class contains 6,000 images. The ten classes in CIFAR-10 are:\n",
        "\n",
        "1. Airplane\n",
        "2. Automobile\n",
        "3. Bird\n",
        "4. Cat\n",
        "5. Deer\n",
        "6. Dog\n",
        "7. Frog\n",
        "8. Horse\n",
        "9. Ship\n",
        "10. Truck\n",
        "\n",
        "The images are evenly distributed across the classes, making CIFAR-10 a balanced dataset. The dataset is divided into two sets: a training set and a test set. The training set contains 50,000 images, while the test set contains the remaining 10,000 images.\n",
        "\n",
        "CIFAR-10 is often used for tasks such as image classification, object recognition, and transfer learning experiments. The relatively small size of the images and the variety of classes make it a challenging dataset for training machine learning models, especially deep neural networks. It also serves as a good dataset for teaching and learning purposes due to its manageable size and straightforward class labels."
      ],
      "metadata": {
        "id": "TEB60YsX2yUf"
      }
    },
    {
      "cell_type": "markdown",
      "source": [
        "Here are your tasks:\n",
        "\n",
        "1. Load the CIFAR-10 dataset after referencing the documentation [here](https://keras.io/api/datasets/cifar10/).\n",
        "2. Normalize the pixel values so they're all in the range [0, 1].\n",
        "3. Apply One Hot Encoding to the train and test labels using the [to_categorical](https://www.tensorflow.org/api_docs/python/tf/keras/utils/to_categorical) function.\n",
        "4. Further split the the training data into training and validation sets using [train_test_split](https://scikit-learn.org/stable/modules/generated/sklearn.model_selection.train_test_split.html). Use only 10% of the data for validation.  "
      ],
      "metadata": {
        "id": "Gp0MVIbiFonL"
      }
    },
    {
      "cell_type": "code",
      "source": [
        "# Load the CIFAR-10 dataset\n",
        "(x_train, y_train), (x_test, y_test) = cifar10.load_data()"
      ],
      "metadata": {
        "id": "ndNbwjaaSvs-"
      },
      "execution_count": 86,
      "outputs": []
    },
    {
      "cell_type": "code",
      "source": [
        "assert x_train.shape == (50000, 32, 32, 3)\n",
        "assert x_test.shape == (10000, 32, 32, 3)\n",
        "assert y_train.shape == (50000, 1)\n",
        "assert y_test.shape == (10000, 1)"
      ],
      "metadata": {
        "id": "SUvRl8sckZ6l"
      },
      "execution_count": 87,
      "outputs": []
    },
    {
      "cell_type": "code",
      "source": [
        "# Normalize the pixel values to [0, 1]\n",
        "x_train = x_train / 255.0\n",
        "x_test = x_test / 255.0"
      ],
      "metadata": {
        "id": "8H6KUgh2SxxR"
      },
      "execution_count": 88,
      "outputs": []
    },
    {
      "cell_type": "code",
      "source": [
        "# One-hot encode the labels\n",
        "y_train = to_categorical(y_train)\n",
        "y_test = to_categorical(y_test)"
      ],
      "metadata": {
        "id": "mWDW1ZLySz7K"
      },
      "execution_count": 89,
      "outputs": []
    },
    {
      "cell_type": "code",
      "source": [
        "# Split the data into training and validation sets\n",
        "x_train, x_val, y_train, y_val = train_test_split(x_train, y_train, test_size=0.1, random_state=42)"
      ],
      "metadata": {
        "id": "4y3zao91ndZB"
      },
      "execution_count": 90,
      "outputs": []
    },
    {
      "cell_type": "code",
      "source": [
        "#Since the input shape expected by VGG16 (224, 224, 3) we resize the images:\n",
        "# Resizing the images in the data:\n",
        "#x_train = tf.image.resize(x_train, (224, 224))\n",
        "#x_test = tf.image.resize(x_test, (224, 224))\n",
        "#x_val = tf.image.resize(x_val, (224, 224))\n"
      ],
      "metadata": {
        "id": "B_YZR4evsYnf"
      },
      "execution_count": 16,
      "outputs": []
    },
    {
      "cell_type": "markdown",
      "source": [
        "VGG16 (Visual Geometry Group 16) is a deep convolutional neural network architecture that was developed by the Visual Geometry Group at the University of Oxford. It was proposed by researchers Karen Simonyan and Andrew Zisserman in their paper titled \"Very Deep Convolutional Networks for Large-Scale Image Recognition,\" which was presented at the International Conference on Learning Representations (ICLR) in 2015.\n",
        "\n",
        "The VGG16 architecture gained significant popularity for its simplicity and effectiveness in image classification tasks. It was one of the pioneering models that demonstrated the power of deeper neural networks for visual recognition tasks.\n",
        "\n",
        "Key characteristics of the VGG16 architecture:\n",
        "\n",
        "1. Architecture: VGG16 consists of a total of 16 layers, hence the name \"16.\" These layers are stacked one after another, forming a deep neural network.\n",
        "\n",
        "2. Convolutional Layers: The main building blocks of VGG16 are the convolutional layers. It primarily uses 3x3 convolutional filters throughout the network, which allows it to capture local features effectively.\n",
        "\n",
        "3. Max Pooling: After each set of convolutional layers, VGG16 applies max-pooling layers with 2x2 filters and stride 2, which halves the spatial dimensions (width and height) of the feature maps and reduces the number of parameters.\n",
        "\n",
        "4. Fully Connected Layers: Towards the end of the network, VGG16 has fully connected layers that act as a classifier to make predictions based on the learned features.\n",
        "\n",
        "5. Activation Function: The network uses the Rectified Linear Unit (ReLU) activation function for all hidden layers, which helps with faster convergence during training.\n",
        "\n",
        "6. Number of Filters: The number of filters in each convolutional layer is relatively small compared to more recent architectures like ResNet or InceptionNet. However, stacking multiple layers allows VGG16 to learn complex hierarchical features.\n",
        "\n",
        "7. Output Layer: The output layer consists of 1000 units, corresponding to 1000 ImageNet classes. VGG16 was originally trained on the large-scale ImageNet dataset, which contains millions of images from 1000 different classes.\n",
        "\n",
        "VGG16 was instrumental in showing that increasing the depth of a neural network can significantly improve its performance on image recognition tasks. However, the main drawback of VGG16 is its high number of parameters, making it computationally expensive and memory-intensive to train. Despite this limitation, VGG16 remains an essential benchmark architecture and has paved the way for even deeper and more efficient models in the field of computer vision, such as ResNet, DenseNet, and EfficientNet."
      ],
      "metadata": {
        "id": "aiFJsxS5HPHW"
      }
    },
    {
      "cell_type": "markdown",
      "source": [
        "Here are your tasks:\n",
        "\n",
        "1. Load [VGG16](https://keras.io/api/applications/vgg/#vgg16-function) as a base model. Make sure to exclude the top layer.\n",
        "2. Freeze all the layers in the base model. We'll be using these weights as a feature extraction layer to forward to layers that are trainable."
      ],
      "metadata": {
        "id": "XJw9E1D9Q3tQ"
      }
    },
    {
      "cell_type": "code",
      "source": [
        "# Load the pre-trained VGG16 model (excluding the top classifier)\n",
        "base_model = VGG16(weights='imagenet', include_top=False, input_shape=(32, 32, 3))"
      ],
      "metadata": {
        "id": "bncm8oTonijm"
      },
      "execution_count": 91,
      "outputs": []
    },
    {
      "cell_type": "code",
      "source": [
        "# Freeze the layers in the base model\n",
        "for layer in base_model.layers:\n",
        "    layer.trainable = False"
      ],
      "metadata": {
        "id": "pCQXH4bwS6h5"
      },
      "execution_count": 92,
      "outputs": []
    },
    {
      "cell_type": "markdown",
      "source": [
        "Now, we'll add some trainable layers to the base model.\n",
        "\n",
        "1. Using the base model, add a [GlobalAveragePooling2D](https://keras.io/api/layers/pooling_layers/global_average_pooling2d/) layer, followed by a [Dense](https://keras.io/api/layers/core_layers/dense/) layer of length 256 with ReLU activation. Finally, add a classification layer with 10 units, corresponding to the 10 CIFAR-10 classes, with softmax activation.\n",
        "2. Create a Keras [Model](https://keras.io/api/models/model/) that takes in approproate inputs and outputs."
      ],
      "metadata": {
        "id": "MAnyLR6btWqd"
      }
    },
    {
      "cell_type": "code",
      "source": [
        "# Add a global average pooling layer\n",
        "x = GlobalAveragePooling2D()(base_model.output)"
      ],
      "metadata": {
        "id": "GiD0CiSvTCRG"
      },
      "execution_count": 93,
      "outputs": []
    },
    {
      "cell_type": "code",
      "source": [
        "# Add a fully connected layer with 256 units and ReLU activation\n",
        "x = Dense(256, activation='relu')(x)"
      ],
      "metadata": {
        "id": "fKbX1RK4TCB9"
      },
      "execution_count": 94,
      "outputs": []
    },
    {
      "cell_type": "code",
      "source": [
        "# Add the final classification layer with 10 units (for CIFAR-10 classes) and softmax activation\n",
        "predictions = Dense(10, activation='softmax')(x)"
      ],
      "metadata": {
        "id": "yEYDagVQTB33"
      },
      "execution_count": 95,
      "outputs": []
    },
    {
      "cell_type": "code",
      "source": [
        "# Create the fine-tuned model\n",
        "model = Model(inputs=base_model.input, outputs=predictions)"
      ],
      "metadata": {
        "id": "A-op7iObo8io"
      },
      "execution_count": 96,
      "outputs": []
    },
    {
      "cell_type": "markdown",
      "source": [
        "With your model complete it's time to train it and assess its performance.\n",
        "\n",
        "1. Compile your model using an appropriate loss function. Feel free to play around with the optimizer, but a good starting optimizer might be Adam with a learning rate of 0.001.\n",
        "2. Fit your model on the training data. Use the validation data to print the accuracy for each epoch. Try training for 10 epochs. Note, training can take a few hours so go ahead and grab a cup of coffee.\n",
        "\n",
        "**Optional**: See if you can implement an [Early Stopping](https://keras.io/api/callbacks/early_stopping/) criteria as a callback function."
      ],
      "metadata": {
        "id": "jjgG_9IMwuLS"
      }
    },
    {
      "cell_type": "code",
      "source": [
        "# Compile the model\n",
        "model.compile(optimizer=Adam(learning_rate=0.001), loss='categorical_crossentropy', metrics=['accuracy'])"
      ],
      "metadata": {
        "id": "xTFBXCe6TG5m"
      },
      "execution_count": 97,
      "outputs": []
    },
    {
      "cell_type": "code",
      "source": [
        "# Train the model\n",
        "history = model.fit(x_train, y_train, validation_data=(x_val, y_val), epochs=10)"
      ],
      "metadata": {
        "id": "M5JnXlGPpkDg",
        "colab": {
          "base_uri": "https://localhost:8080/"
        },
        "outputId": "0163c1de-caad-47f2-af8e-6aa774aaa394"
      },
      "execution_count": 98,
      "outputs": [
        {
          "output_type": "stream",
          "name": "stdout",
          "text": [
            "Epoch 1/10\n",
            "1407/1407 [==============================] - 14s 9ms/step - loss: 1.3567 - accuracy: 0.5281 - val_loss: 1.2412 - val_accuracy: 0.5556\n",
            "Epoch 2/10\n",
            "1407/1407 [==============================] - 13s 9ms/step - loss: 1.1811 - accuracy: 0.5878 - val_loss: 1.1839 - val_accuracy: 0.5758\n",
            "Epoch 3/10\n",
            "1407/1407 [==============================] - 13s 9ms/step - loss: 1.1165 - accuracy: 0.6102 - val_loss: 1.1444 - val_accuracy: 0.5962\n",
            "Epoch 4/10\n",
            "1407/1407 [==============================] - 13s 9ms/step - loss: 1.0622 - accuracy: 0.6284 - val_loss: 1.1276 - val_accuracy: 0.6074\n",
            "Epoch 5/10\n",
            "1407/1407 [==============================] - 13s 9ms/step - loss: 1.0195 - accuracy: 0.6426 - val_loss: 1.0943 - val_accuracy: 0.6158\n",
            "Epoch 6/10\n",
            "1407/1407 [==============================] - 13s 9ms/step - loss: 0.9799 - accuracy: 0.6553 - val_loss: 1.1224 - val_accuracy: 0.6098\n",
            "Epoch 7/10\n",
            "1407/1407 [==============================] - 13s 9ms/step - loss: 0.9430 - accuracy: 0.6688 - val_loss: 1.1181 - val_accuracy: 0.6210\n",
            "Epoch 8/10\n",
            "1407/1407 [==============================] - 13s 9ms/step - loss: 0.9116 - accuracy: 0.6784 - val_loss: 1.1211 - val_accuracy: 0.6186\n",
            "Epoch 9/10\n",
            "1407/1407 [==============================] - 13s 9ms/step - loss: 0.8795 - accuracy: 0.6927 - val_loss: 1.1106 - val_accuracy: 0.6224\n",
            "Epoch 10/10\n",
            "1407/1407 [==============================] - 13s 9ms/step - loss: 0.8489 - accuracy: 0.7021 - val_loss: 1.1219 - val_accuracy: 0.6140\n"
          ]
        }
      ]
    },
    {
      "cell_type": "markdown",
      "source": [
        "Validation accuracy is 0.6140, training accuracy is 0.7021. It better than random guess. The model is underfitting but training accuracy is higher than validation accuracy. Now we will try fine tuning.\n",
        "\n",
        "\n"
      ],
      "metadata": {
        "id": "62vj-50s9wgS"
      }
    },
    {
      "cell_type": "code",
      "source": [
        "base_model.trainable = True\n",
        "model.compile(optimizer=tf.keras.optimizers.Adam(learning_rate=1e-5),\n",
        "              loss='categorical_crossentropy',\n",
        "              metrics=['accuracy'])\n",
        "\n",
        "history = model.fit(x_train, y_train, batch_size = 32,validation_data=(x_val, y_val), epochs=10)\n"
      ],
      "metadata": {
        "colab": {
          "base_uri": "https://localhost:8080/"
        },
        "id": "70SDYHaLgQ9r",
        "outputId": "fae50736-fa44-422b-904b-8257957d2e59"
      },
      "execution_count": 99,
      "outputs": [
        {
          "output_type": "stream",
          "name": "stdout",
          "text": [
            "Epoch 1/10\n",
            "1407/1407 [==============================] - 46s 30ms/step - loss: 0.7534 - accuracy: 0.7353 - val_loss: 0.8023 - val_accuracy: 0.7234\n",
            "Epoch 2/10\n",
            "1407/1407 [==============================] - 42s 30ms/step - loss: 0.5522 - accuracy: 0.8048 - val_loss: 0.7267 - val_accuracy: 0.7542\n",
            "Epoch 3/10\n",
            "1407/1407 [==============================] - 42s 30ms/step - loss: 0.4298 - accuracy: 0.8462 - val_loss: 0.6835 - val_accuracy: 0.7754\n",
            "Epoch 4/10\n",
            "1407/1407 [==============================] - 42s 30ms/step - loss: 0.3338 - accuracy: 0.8824 - val_loss: 0.6884 - val_accuracy: 0.7792\n",
            "Epoch 5/10\n",
            "1407/1407 [==============================] - 42s 30ms/step - loss: 0.2559 - accuracy: 0.9102 - val_loss: 0.6876 - val_accuracy: 0.7844\n",
            "Epoch 6/10\n",
            "1407/1407 [==============================] - 42s 30ms/step - loss: 0.1952 - accuracy: 0.9328 - val_loss: 0.7442 - val_accuracy: 0.7858\n",
            "Epoch 7/10\n",
            "1407/1407 [==============================] - 42s 30ms/step - loss: 0.1471 - accuracy: 0.9502 - val_loss: 0.7284 - val_accuracy: 0.7918\n",
            "Epoch 8/10\n",
            "1407/1407 [==============================] - 42s 30ms/step - loss: 0.1177 - accuracy: 0.9604 - val_loss: 0.7722 - val_accuracy: 0.7978\n",
            "Epoch 9/10\n",
            "1407/1407 [==============================] - 42s 30ms/step - loss: 0.0894 - accuracy: 0.9712 - val_loss: 0.8312 - val_accuracy: 0.7922\n",
            "Epoch 10/10\n",
            "1407/1407 [==============================] - 42s 30ms/step - loss: 0.0735 - accuracy: 0.9760 - val_loss: 0.8528 - val_accuracy: 0.8030\n"
          ]
        }
      ]
    },
    {
      "cell_type": "markdown",
      "source": [
        "Validation accuracy is 0.8030 and training accuracy is 0.9760, clearly overfitting. To balance is we will use data augmentation."
      ],
      "metadata": {
        "id": "KeXJkQPox6TC"
      }
    },
    {
      "cell_type": "code",
      "source": [
        "\n",
        "from tensorflow.keras.preprocessing.image import ImageDataGenerator\n",
        "\n",
        "# Create an instance of ImageDataGenerator with augmentation parameters\n",
        "datagen = ImageDataGenerator(\n",
        "    rotation_range=20,        # Rotate images by up to 20 degrees\n",
        "    width_shift_range=0.2,    # Shift images horizontally by up to 20% of the width\n",
        "    height_shift_range=0.2,   # Shift images vertically by up to 20% of the height\n",
        "    shear_range=0.2,          # Apply shear transformation with up to 20 degrees\n",
        "    zoom_range=0.2,           # Zoom in or out by up to 20%\n",
        "    horizontal_flip=True,     # Flip images horizontally with a probability of 50%\n",
        "    fill_mode='nearest'       # Fill in newly created pixels with the nearest pixel value\n",
        ")"
      ],
      "metadata": {
        "id": "wtq7sYfpi-DY"
      },
      "execution_count": 100,
      "outputs": []
    },
    {
      "cell_type": "code",
      "source": [
        "history = model.fit(\n",
        "    datagen.flow(x_train, y_train, batch_size=64),\n",
        "    epochs=10,\n",
        "    validation_data=(x_val, y_val),\n",
        ")"
      ],
      "metadata": {
        "colab": {
          "base_uri": "https://localhost:8080/"
        },
        "id": "1LUeTusAgSV7",
        "outputId": "31ce4048-ee28-4b25-c7e9-0323ce839a42"
      },
      "execution_count": 101,
      "outputs": [
        {
          "output_type": "stream",
          "name": "stdout",
          "text": [
            "Epoch 1/10\n",
            "704/704 [==============================] - 28s 39ms/step - loss: 0.7749 - accuracy: 0.7339 - val_loss: 0.6391 - val_accuracy: 0.7894\n",
            "Epoch 2/10\n",
            "704/704 [==============================] - 27s 39ms/step - loss: 0.6436 - accuracy: 0.7738 - val_loss: 0.5658 - val_accuracy: 0.8122\n",
            "Epoch 3/10\n",
            "704/704 [==============================] - 27s 38ms/step - loss: 0.6025 - accuracy: 0.7868 - val_loss: 0.5466 - val_accuracy: 0.8134\n",
            "Epoch 4/10\n",
            "704/704 [==============================] - 27s 38ms/step - loss: 0.5769 - accuracy: 0.7984 - val_loss: 0.5728 - val_accuracy: 0.8128\n",
            "Epoch 5/10\n",
            "704/704 [==============================] - 27s 39ms/step - loss: 0.5500 - accuracy: 0.8063 - val_loss: 0.5698 - val_accuracy: 0.8086\n",
            "Epoch 6/10\n",
            "704/704 [==============================] - 27s 38ms/step - loss: 0.5267 - accuracy: 0.8146 - val_loss: 0.5451 - val_accuracy: 0.8210\n",
            "Epoch 7/10\n",
            "704/704 [==============================] - 27s 38ms/step - loss: 0.5106 - accuracy: 0.8181 - val_loss: 0.5173 - val_accuracy: 0.8264\n",
            "Epoch 8/10\n",
            "704/704 [==============================] - 27s 39ms/step - loss: 0.4834 - accuracy: 0.8289 - val_loss: 0.5512 - val_accuracy: 0.8166\n",
            "Epoch 9/10\n",
            "704/704 [==============================] - 27s 38ms/step - loss: 0.4713 - accuracy: 0.8338 - val_loss: 0.4851 - val_accuracy: 0.8364\n",
            "Epoch 10/10\n",
            "704/704 [==============================] - 27s 39ms/step - loss: 0.4596 - accuracy: 0.8384 - val_loss: 0.5462 - val_accuracy: 0.8210\n"
          ]
        }
      ]
    },
    {
      "cell_type": "code",
      "source": [
        "# Evaluate the model on the test set\n",
        "test_loss, test_acc = model.evaluate(x_test, y_test)\n",
        "print('Test accuracy:', test_acc)"
      ],
      "metadata": {
        "colab": {
          "base_uri": "https://localhost:8080/"
        },
        "id": "5uYTnKKNgSfm",
        "outputId": "47eadd87-9aab-4d47-e7e2-b0ce0132e66a"
      },
      "execution_count": 102,
      "outputs": [
        {
          "output_type": "stream",
          "name": "stdout",
          "text": [
            "313/313 [==============================] - 3s 8ms/step - loss: 0.5941 - accuracy: 0.8091\n",
            "Test accuracy: 0.8090999722480774\n"
          ]
        }
      ]
    },
    {
      "cell_type": "markdown",
      "source": [
        "Training accuracy is 0.8384 and test accuracy is 0.8091. The difference between them is decreased. Now we will keep fine tuning."
      ],
      "metadata": {
        "id": "LdbB5lDVzVB8"
      }
    },
    {
      "cell_type": "code",
      "source": [
        "history = model.fit(\n",
        "    datagen.flow(x_train, y_train, batch_size=64),\n",
        "    epochs=10,\n",
        "    validation_data=(x_val, y_val),\n",
        ")"
      ],
      "metadata": {
        "colab": {
          "base_uri": "https://localhost:8080/"
        },
        "id": "msPeVM3y9tFL",
        "outputId": "cdb794c6-6662-405a-bfcf-e1fb7a7dd250"
      },
      "execution_count": 103,
      "outputs": [
        {
          "output_type": "stream",
          "name": "stdout",
          "text": [
            "Epoch 1/10\n",
            "704/704 [==============================] - 27s 39ms/step - loss: 0.4446 - accuracy: 0.8423 - val_loss: 0.5001 - val_accuracy: 0.8346\n",
            "Epoch 2/10\n",
            "704/704 [==============================] - 27s 39ms/step - loss: 0.4316 - accuracy: 0.8473 - val_loss: 0.4687 - val_accuracy: 0.8436\n",
            "Epoch 3/10\n",
            "704/704 [==============================] - 27s 38ms/step - loss: 0.4159 - accuracy: 0.8538 - val_loss: 0.4951 - val_accuracy: 0.8390\n",
            "Epoch 4/10\n",
            "704/704 [==============================] - 27s 38ms/step - loss: 0.4001 - accuracy: 0.8580 - val_loss: 0.5016 - val_accuracy: 0.8352\n",
            "Epoch 5/10\n",
            "704/704 [==============================] - 27s 39ms/step - loss: 0.3946 - accuracy: 0.8602 - val_loss: 0.4994 - val_accuracy: 0.8372\n",
            "Epoch 6/10\n",
            "704/704 [==============================] - 27s 38ms/step - loss: 0.3828 - accuracy: 0.8646 - val_loss: 0.4775 - val_accuracy: 0.8440\n",
            "Epoch 7/10\n",
            "704/704 [==============================] - 27s 38ms/step - loss: 0.3708 - accuracy: 0.8694 - val_loss: 0.4965 - val_accuracy: 0.8372\n",
            "Epoch 8/10\n",
            "704/704 [==============================] - 27s 38ms/step - loss: 0.3568 - accuracy: 0.8734 - val_loss: 0.5116 - val_accuracy: 0.8354\n",
            "Epoch 9/10\n",
            "704/704 [==============================] - 27s 38ms/step - loss: 0.3542 - accuracy: 0.8760 - val_loss: 0.5270 - val_accuracy: 0.8390\n",
            "Epoch 10/10\n",
            "704/704 [==============================] - 27s 38ms/step - loss: 0.3391 - accuracy: 0.8795 - val_loss: 0.4746 - val_accuracy: 0.8478\n"
          ]
        }
      ]
    },
    {
      "cell_type": "markdown",
      "source": [
        "With your model trained, it's time to assess how well it performs on the test data.\n",
        "\n",
        "1. Use your trained model to calculate the accuracy on the test set. Is the model performance better than random?\n",
        "2. Experiment! See if you can tweak your model to improve performance.  "
      ],
      "metadata": {
        "id": "N8-T6EnmypvW"
      }
    },
    {
      "cell_type": "code",
      "source": [
        "# Evaluate the model on the test set\n",
        "test_loss, test_acc = model.evaluate(x_test, y_test)\n",
        "print('Test accuracy:', test_acc)"
      ],
      "metadata": {
        "id": "auYNYD0JpnaX",
        "colab": {
          "base_uri": "https://localhost:8080/"
        },
        "outputId": "ab754ad4-b29a-4683-c994-a3ed13da33b1"
      },
      "execution_count": 104,
      "outputs": [
        {
          "output_type": "stream",
          "name": "stdout",
          "text": [
            "313/313 [==============================] - 3s 8ms/step - loss: 0.5148 - accuracy: 0.8435\n",
            "Test accuracy: 0.843500018119812\n"
          ]
        }
      ]
    }
  ]
}
